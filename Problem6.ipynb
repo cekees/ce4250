{
 "cells": [
  {
   "cell_type": "markdown",
   "id": "568097f9-fea3-4b13-a3dc-75e6bbcc3e4b",
   "metadata": {},
   "source": [
    "# Exam 2, Problem 6\n",
    "\n",
    "For the phreatic aquifer shown below, determine the rates of flow to the two streams and the\n",
    "expressions describing the phreatic surface (h=f(x)) for $K_1=9$ m/d, $K_2=25$ m/d, $h_0=30$ m, $ℎ_{(𝑙_2\n",
    ")}=20$ m and $W=600$ mm/yr. Determine the flow to the river at $x=0$.\n",
    "\n",
    "![](Problem6.jpg)\n",
    "\n",
    "## Solution:\n",
    "\n",
    "For steady 1D flow in a homogenous unconfined aquifer with constant recharge, we know the head has the form\n",
    "\n",
    "$$\n",
    "h^2(x) = \\frac{-W}{K} x^2 + C_1 x + C_2\n",
    "$$\n",
    "and the discharge per unit width of aquifer is \n",
    "$$\n",
    "Q^{'}(x) = -\\frac{K}{2} \\frac{dh^2}{dx} \n",
    "$$\n",
    "If we take  the bottom of the aquifer as $z=0$ then $h(x)$ is also the height of water in the unconfined aquifer, the phreatic surface. In this problem we have two materials (or two neighboring homogenous aquifers). Letting the function $h^2_I(x)=h^2(x)$ above be for material/aquifer I, we let\n",
    "\n",
    "$$\n",
    "h^2_II(x) = \\frac{-W}{K} x^2 + C_3 x + C_4\n",
    "$$\n",
    "\n",
    "govern the second material. Then we have 4  unknowns so we need to see if we have 4 conditions (equations) to get a solveable system. These come from the known heads at the two rivers and the two conditions at the boundary between the two materials, which are continuity of the Darcy flux and continuity of the head:\n",
    "\n",
    "$$\n",
    "\\begin{align}\n",
    "h_I(x=0) &= 30^2 \\\\\n",
    "h_{II}(x=3000)&=20^2 \\\\\n",
    "h_I(x=1000) &= h_{II}(x=1000) \\\\\n",
    "-\\frac{K_1}{2} \\frac{dh^2_{I}}{dx}(x=1000) &= -\\frac{K_2}{2} \\frac{dh^2_{II}}{dx}(x=1000)\n",
    "\\end{align}\n",
    "$$\n",
    "\n",
    "This yields four linear equations in four unknowns. The first equation yields immediately $C_2=900$, so really it's just three equations for the three unknowns $C_1, C_3,C_4$, which you can solve in an engineering calculator or by hand. Below I show how to solve in Python with the sympy package.\n",
    "\n",
    "Note: If you don't have that formula memorized or on your formula sheet, it is not hard to derive. We know the discharge in a unit width of unconfied aquifer is $Q=1 h(x) q(x)$ and from mass conservation we have then\n",
    "\n",
    "$$\n",
    "\\frac{d (hq)}{dx} = W\n",
    "$$\n",
    "\n",
    "and from Darcy's law we have\n",
    "\n",
    "$$\n",
    "\\frac{d}{dx}\\left(-hK \\frac{dh}{dx}\\right) = W\n",
    "$$\n",
    "\n",
    "We can integrate this twice to solve:\n",
    "\n",
    "$$\n",
    "\\frac{d}{dx}\\left(h \\frac{dh}{dx}\\right) = \\frac{-W}{K}\n",
    "$$\n",
    "rearranging using $h \\frac{dh}{dx} = \\frac{1}{2} \\frac{dh^2}{dx}$\n",
    "$$\n",
    "\\int \\frac{d}{dx}\\left(\\frac{dh^2}{dx}\\right) dx = \\int \\frac{-2W}{K} dx\n",
    "$$\n",
    "$$\n",
    "\\frac{dh^2}{dx} = \\frac{-2W}{K} x + C_1\n",
    "$$\n",
    "$$\n",
    "\\int \\frac{dh^2}{dx} dx = \\int \\left( \\frac{-2W}{K} x + C_1 \\right) dx\n",
    "$$\n",
    "$$\n",
    "h^2(x) =\\frac{-W}{K} x^2 + C_1 x + C_2\n",
    "$$"
   ]
  },
  {
   "cell_type": "code",
   "execution_count": 1,
   "id": "ef4f8a1c-0e62-40f6-9576-340b550b13f4",
   "metadata": {},
   "outputs": [],
   "source": [
    "#import some  tools from sympy to\n",
    "from sympy import symbols, solve, Eq"
   ]
  },
  {
   "cell_type": "code",
   "execution_count": 2,
   "id": "279695eb-1905-4def-8c3f-97e187bea9cb",
   "metadata": {},
   "outputs": [],
   "source": [
    "#set the known constants for this problem\n",
    "K1=9 #m/d\n",
    "K2=25 #m/d\n",
    "h0=30 #m\n",
    "h2=20 #m\n",
    "W=600/1000/365 #m/d -- remember to convert to days from the given mm/y"
   ]
  },
  {
   "cell_type": "code",
   "execution_count": 3,
   "id": "773515be-323a-4626-aa35-e68d9b226633",
   "metadata": {},
   "outputs": [],
   "source": [
    "C1,C2,C3,C4,x=symbols('C1,C2,C3,C4,x')"
   ]
  },
  {
   "cell_type": "code",
   "execution_count": 4,
   "id": "0261292b-376b-4934-a214-bfbc9128d8fe",
   "metadata": {},
   "outputs": [
    {
     "data": {
      "text/plain": [
       "{C1: 0.121323139003929,\n",
       " C2: 900.000000000000,\n",
       " C3: 0.0436763300414145,\n",
       " C4: 860.751831793565}"
      ]
     },
     "execution_count": 4,
     "metadata": {},
     "output_type": "execute_result"
    }
   ],
   "source": [
    "#in a hurry, you might just give it the 4 equations as a list and tell it to solve\n",
    "solve(\n",
    "    [(-W/K1)*0**2 + C1*0 + C2 - h0**2, \n",
    "     (-W/K2)*3000**2+C3*3000+C4 - h2**2, \n",
    "     (-W/K1)*1000**2 + C1*1000 + C2 - ((-W/K2)*1000**2+C3*1000+C4), \n",
    "     -0.5*K1*((-W/K1)*2*1000+C1) - (-0.5*K2*((-W/K2)*2*1000+C3))])"
   ]
  },
  {
   "cell_type": "code",
   "execution_count": 5,
   "id": "36aa993f-a9a3-4b12-b5cf-424518630656",
   "metadata": {},
   "outputs": [
    {
     "name": "stdout",
     "output_type": "stream",
     "text": [
      "Flux at (left) river -0.5459541255176805\n"
     ]
    }
   ],
   "source": [
    "#noting that dh^2/dx at x=0 is just C1,  compute the Darcy flux\n",
    "print(\"Flux at (left) river\", -0.5*K1*0.121323139003929)"
   ]
  },
  {
   "cell_type": "markdown",
   "id": "218313a1-3601-4d05-869f-205597c75df1",
   "metadata": {},
   "source": [
    "# Alternative approach\n",
    "\n",
    "A slightly nicer way to do this is to define the two solution functions for $h^2$ and define equations from them by substitutiong the boundary conditions"
   ]
  },
  {
   "cell_type": "code",
   "execution_count": 6,
   "id": "0b2b5144-4e2d-4716-a296-e06848e4a4e6",
   "metadata": {},
   "outputs": [
    {
     "data": {
      "text/latex": [
       "$\\displaystyle C_{1} x + C_{2} - 0.000182648401826484 x^{2}$"
      ],
      "text/plain": [
       "C1*x + C2 - 0.000182648401826484*x**2"
      ]
     },
     "metadata": {},
     "output_type": "display_data"
    },
    {
     "data": {
      "text/latex": [
       "$\\displaystyle C_{3} x + C_{4} - 6.57534246575342 \\cdot 10^{-5} x^{2}$"
      ],
      "text/plain": [
       "C3*x + C4 - 6.57534246575342e-5*x**2"
      ]
     },
     "metadata": {},
     "output_type": "display_data"
    }
   ],
   "source": [
    "hhI = (-W/K1)*x**2 + C1*x + C2\n",
    "hhII = (-W/K2)*x**2 + C3*x + C4\n",
    "display(hhI,hhII)"
   ]
  },
  {
   "cell_type": "code",
   "execution_count": 7,
   "id": "43f29865-7076-4567-be40-0bd4c1fb92f6",
   "metadata": {},
   "outputs": [],
   "source": [
    "s = [Eq(hhI.subs({'x':0}),h0**2), \n",
    "     Eq(hhII.subs({'x':3000}),h2**2), \n",
    "     Eq(hhI.subs({'x':1000}), hhII.subs({'x':1000})),\n",
    "     Eq(-0.5*K1*hhI.diff(x).subs({'x':1000}), -0.5*K2*hhII.diff(x).subs({'x':1000}))]"
   ]
  },
  {
   "cell_type": "code",
   "execution_count": 8,
   "id": "ad177e37-5e87-4fbc-95f0-fd336b962402",
   "metadata": {},
   "outputs": [
    {
     "data": {
      "text/latex": [
       "$\\displaystyle C_{2} = 900$"
      ],
      "text/plain": [
       "Eq(C2, 900)"
      ]
     },
     "metadata": {},
     "output_type": "display_data"
    },
    {
     "data": {
      "text/latex": [
       "$\\displaystyle 3000 C_{3} + C_{4} - 591.780821917808 = 400$"
      ],
      "text/plain": [
       "Eq(3000*C3 + C4 - 591.780821917808, 400)"
      ]
     },
     "metadata": {},
     "output_type": "display_data"
    },
    {
     "data": {
      "text/latex": [
       "$\\displaystyle 1000 C_{1} + C_{2} - 182.648401826484 = 1000 C_{3} + C_{4} - 65.7534246575342$"
      ],
      "text/plain": [
       "Eq(1000*C1 + C2 - 182.648401826484, 1000*C3 + C4 - 65.7534246575342)"
      ]
     },
     "metadata": {},
     "output_type": "display_data"
    },
    {
     "data": {
      "text/latex": [
       "$\\displaystyle 1.64383561643836 - 4.5 C_{1} = 1.64383561643836 - 12.5 C_{3}$"
      ],
      "text/plain": [
       "Eq(1.64383561643836 - 4.5*C1, 1.64383561643836 - 12.5*C3)"
      ]
     },
     "metadata": {},
     "output_type": "display_data"
    }
   ],
   "source": [
    "for e in s:\n",
    "    display(e)"
   ]
  },
  {
   "cell_type": "code",
   "execution_count": 9,
   "id": "2d1861f2-3180-4bd2-b39f-5185ffe81953",
   "metadata": {},
   "outputs": [
    {
     "data": {
      "text/plain": [
       "{C1: 0.121323139003929,\n",
       " C2: 900.000000000000,\n",
       " C3: 0.0436763300414144,\n",
       " C4: 860.751831793565}"
      ]
     },
     "execution_count": 9,
     "metadata": {},
     "output_type": "execute_result"
    }
   ],
   "source": [
    "soln = solve(s)\n",
    "soln"
   ]
  },
  {
   "cell_type": "code",
   "execution_count": 10,
   "id": "ba3ada2e-ca6c-4778-b18a-c8f25291c0e1",
   "metadata": {},
   "outputs": [
    {
     "data": {
      "text/plain": [
       "(0.00164383561643836*x - 0.54595412551768,\n",
       " 0.00164383561643836*x - 0.54595412551768,\n",
       " -0.545954125517680)"
      ]
     },
     "execution_count": 10,
     "metadata": {},
     "output_type": "execute_result"
    }
   ],
   "source": [
    "QI = -0.5*K1*hhI.diff(x).subs({'C1':soln[C1], 'C2':soln[C2]})\n",
    "QII = -0.5*K2*hhII.diff(x).subs({'C3':soln[C3], 'C4':soln[C4]})\n",
    "QI, QII, QI.subs({'x':0.0})"
   ]
  },
  {
   "cell_type": "code",
   "execution_count": 11,
   "id": "5efa3c23-9ce0-46f9-96b8-41c79285d259",
   "metadata": {},
   "outputs": [],
   "source": [
    "from matplotlib import pyplot as plt\n",
    "import numpy as np"
   ]
  },
  {
   "cell_type": "code",
   "execution_count": 12,
   "id": "41d00f7c-1766-4c15-8781-232fcd0e1477",
   "metadata": {},
   "outputs": [
    {
     "data": {
      "image/png": "[encoded data removed]",
      "text/plain": [
       "<Figure size 640x480 with 1 Axes>"
      ]
     },
     "metadata": {},
     "output_type": "display_data"
    }
   ],
   "source": [
    "xI = np.linspace(0.0,1000,101)\n",
    "hI = [(hhI.subs({'x':xi, 'C1':soln[C1], 'C2': soln[C2]}).n())**(0.5) for xi in xI]\n",
    "xII = np.linspace(1000,3000,101)\n",
    "hII = [(hhII.subs({'x':xi, 'C3':soln[C3], 'C4': soln[C4]}).n())**(0.5) for xi in xII]\n",
    "plt.plot(xI,hI,'k-')\n",
    "plt.plot(xII,hII,'k-')\n",
    "plt.ylabel('h [m]')\n",
    "plt.xlabel('x [m]')\n",
    "plt.title(\"Piezometric surface\")\n",
    "plt.show()"
   ]
  },
  {
   "cell_type": "code",
   "execution_count": 13,
   "id": "4253802e-823f-43dd-9425-90569f7f1736",
   "metadata": {},
   "outputs": [
    {
     "data": {
      "text/plain": [
       "Text(0.5, 1.0, 'Discharge per unit width')"
      ]
     },
     "execution_count": 13,
     "metadata": {},
     "output_type": "execute_result"
    },
    {
     "data": {
      "image/png": "[encoded data removed]",
      "text/plain": [
       "<Figure size 640x480 with 1 Axes>"
      ]
     },
     "metadata": {},
     "output_type": "display_data"
    }
   ],
   "source": [
    "xI = np.linspace(0.0,1000,101)\n",
    "QI_vs_x = [QI.subs({'x':xi, 'C1':soln[C1], 'C2': soln[C2]}).n() for xi in xI]\n",
    "xII = np.linspace(1000,3000,101)\n",
    "QII_vs_x = [QII.subs({'x':xi, 'C3':soln[C3], 'C4': soln[C4]}).n() for xi in xII]\n",
    "plt.plot(xI,QI_vs_x,'k-')\n",
    "plt.plot(xII,QII_vs_x,'k-')\n",
    "plt.ylabel('Q [m^2/d]')\n",
    "plt.xlabel('x [m]')\n",
    "plt.title(\"Discharge per unit width\")"
   ]
  }
 ],
 "metadata": {
  "kernelspec": {
   "display_name": "Python 3 (ipykernel)",
   "language": "python",
   "name": "python3"
  },
  "language_info": {
   "codemirror_mode": {
    "name": "ipython",
    "version": 3
   },
   "file_extension": ".py",
   "mimetype": "text/x-python",
   "name": "python",
   "nbconvert_exporter": "python",
   "pygments_lexer": "ipython3",
   "version": "3.10.14"
  }
 },
 "nbformat": 4,
 "nbformat_minor": 5
}
